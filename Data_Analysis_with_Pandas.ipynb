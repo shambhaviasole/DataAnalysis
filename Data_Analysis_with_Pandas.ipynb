{
  "nbformat": 4,
  "nbformat_minor": 0,
  "metadata": {
    "colab": {
      "provenance": []
    },
    "kernelspec": {
      "name": "python3",
      "display_name": "Python 3"
    },
    "language_info": {
      "name": "python"
    }
  },
  "cells": [
    {
      "cell_type": "code",
      "execution_count": 1,
      "metadata": {
        "id": "pMCuDfbY0FZW"
      },
      "outputs": [],
      "source": [
        "import pandas"
      ]
    },
    {
      "cell_type": "code",
      "source": [
        "url=\"https://raw.githubusercontent.com/sohamglobal/datasets/refs/heads/main/FitnessCustomers.csv\"\n",
        "df=pandas.read_csv(url)\n",
        "print(df)"
      ],
      "metadata": {
        "colab": {
          "base_uri": "https://localhost:8080/"
        },
        "id": "oe9jFnSG0Riq",
        "outputId": "63e915f9-f9ff-4a78-b081-787fad117f73"
      },
      "execution_count": 3,
      "outputs": [
        {
          "output_type": "stream",
          "name": "stdout",
          "text": [
            "    CustomerID  Age  Gender  Weight  Height   BMI  ExerciseTime Smoking  \\\n",
            "0     CUST1000   56    Male      72     181  22.0            11      No   \n",
            "1     CUST1001   46  Female      75     180  23.1            69      No   \n",
            "2     CUST1002   32  Female      83     165  30.5            16      No   \n",
            "3     CUST1003   60  Female      95     181  29.0           114      No   \n",
            "4     CUST1004   25    Male      83     181  25.3            18      No   \n",
            "..         ...  ...     ...     ...     ...   ...           ...     ...   \n",
            "995   CUST1995   22    Male      61     154  25.7            79      No   \n",
            "996   CUST1996   40    Male      76     166  27.6            71      No   \n",
            "997   CUST1997   27  Female      89     169  31.2            96      No   \n",
            "998   CUST1998   61    Male      51     190  14.1           112     Yes   \n",
            "999   CUST1999   19    Male      62     195  16.3            11     Yes   \n",
            "\n",
            "    Alcohol  CaloriesIntake  StepsDay  FitnessGoal     Status MembershipType  \\\n",
            "0        No            2034     12940  Maintenance  Off Track        Premium   \n",
            "1        No            3216      9240  Weight Loss   On Track        Premium   \n",
            "2       Yes            2816     14363  Muscle Gain  Off Track        Premium   \n",
            "3        No            2532      6408  Weight Loss  Off Track        Premium   \n",
            "4       Yes            2794      4861  Muscle Gain  Off Track          Basic   \n",
            "..      ...             ...       ...          ...        ...            ...   \n",
            "995      No            2858      7957  Weight Loss  Off Track          Basic   \n",
            "996      No            3287      1766  Maintenance  Off Track        Premium   \n",
            "997     Yes            1868      3681  Muscle Gain  Off Track        Premium   \n",
            "998      No            3384      8710  Weight Loss  Off Track        Premium   \n",
            "999     Yes            3107      8482  Muscle Gain  Off Track        Premium   \n",
            "\n",
            "    Region  \n",
            "0     West  \n",
            "1     East  \n",
            "2    South  \n",
            "3     West  \n",
            "4    South  \n",
            "..     ...  \n",
            "995  South  \n",
            "996  South  \n",
            "997  North  \n",
            "998  South  \n",
            "999  North  \n",
            "\n",
            "[1000 rows x 15 columns]\n"
          ]
        }
      ]
    },
    {
      "cell_type": "markdown",
      "source": [
        "#Retrieve data"
      ],
      "metadata": {
        "id": "W8-RNvlC4FxL"
      }
    },
    {
      "cell_type": "code",
      "source": [
        "print(df['CustomerID'])"
      ],
      "metadata": {
        "colab": {
          "base_uri": "https://localhost:8080/"
        },
        "id": "8ugopMJ20WGr",
        "outputId": "580ebace-a5d2-4bfe-a787-0ce519f3d03d"
      },
      "execution_count": 5,
      "outputs": [
        {
          "output_type": "stream",
          "name": "stdout",
          "text": [
            "0      CUST1000\n",
            "1      CUST1001\n",
            "2      CUST1002\n",
            "3      CUST1003\n",
            "4      CUST1004\n",
            "         ...   \n",
            "995    CUST1995\n",
            "996    CUST1996\n",
            "997    CUST1997\n",
            "998    CUST1998\n",
            "999    CUST1999\n",
            "Name: CustomerID, Length: 1000, dtype: object\n"
          ]
        }
      ]
    },
    {
      "cell_type": "code",
      "source": [
        "print(df[['CustomerID','Age','Weight']])"
      ],
      "metadata": {
        "colab": {
          "base_uri": "https://localhost:8080/"
        },
        "id": "3QjNn7z60ypX",
        "outputId": "e1cf9c6e-da0b-41e0-c3db-d510c8445fd4"
      },
      "execution_count": 6,
      "outputs": [
        {
          "output_type": "stream",
          "name": "stdout",
          "text": [
            "    CustomerID  Age  Weight\n",
            "0     CUST1000   56      72\n",
            "1     CUST1001   46      75\n",
            "2     CUST1002   32      83\n",
            "3     CUST1003   60      95\n",
            "4     CUST1004   25      83\n",
            "..         ...  ...     ...\n",
            "995   CUST1995   22      61\n",
            "996   CUST1996   40      76\n",
            "997   CUST1997   27      89\n",
            "998   CUST1998   61      51\n",
            "999   CUST1999   19      62\n",
            "\n",
            "[1000 rows x 3 columns]\n"
          ]
        }
      ]
    },
    {
      "cell_type": "code",
      "source": [
        "print(df.loc[3])"
      ],
      "metadata": {
        "colab": {
          "base_uri": "https://localhost:8080/"
        },
        "id": "OWkfoUoi1Af8",
        "outputId": "47185e49-0002-4eba-f5d2-2119e1158d6d"
      },
      "execution_count": 7,
      "outputs": [
        {
          "output_type": "stream",
          "name": "stdout",
          "text": [
            "CustomerID           CUST1003\n",
            "Age                        60\n",
            "Gender                 Female\n",
            "Weight                     95\n",
            "Height                    181\n",
            "BMI                      29.0\n",
            "ExerciseTime              114\n",
            "Smoking                    No\n",
            "Alcohol                    No\n",
            "CaloriesIntake           2532\n",
            "StepsDay                 6408\n",
            "FitnessGoal       Weight Loss\n",
            "Status              Off Track\n",
            "MembershipType        Premium\n",
            "Region                   West\n",
            "Name: 3, dtype: object\n"
          ]
        }
      ]
    },
    {
      "cell_type": "code",
      "source": [
        "print(df.loc[2:5])"
      ],
      "metadata": {
        "colab": {
          "base_uri": "https://localhost:8080/"
        },
        "id": "5j6_KGfo1LKI",
        "outputId": "19d70ee8-708a-4ada-ce4d-7301a71a674f"
      },
      "execution_count": 8,
      "outputs": [
        {
          "output_type": "stream",
          "name": "stdout",
          "text": [
            "  CustomerID  Age  Gender  Weight  Height   BMI  ExerciseTime Smoking Alcohol  \\\n",
            "2   CUST1002   32  Female      83     165  30.5            16      No     Yes   \n",
            "3   CUST1003   60  Female      95     181  29.0           114      No      No   \n",
            "4   CUST1004   25    Male      83     181  25.3            18      No     Yes   \n",
            "5   CUST1005   38    Male      78     183  23.3            25      No      No   \n",
            "\n",
            "   CaloriesIntake  StepsDay  FitnessGoal     Status MembershipType Region  \n",
            "2            2816     14363  Muscle Gain  Off Track        Premium  South  \n",
            "3            2532      6408  Weight Loss  Off Track        Premium   West  \n",
            "4            2794      4861  Muscle Gain  Off Track          Basic  South  \n",
            "5            2910     14937  Muscle Gain  Off Track        Premium  South  \n"
          ]
        }
      ]
    },
    {
      "cell_type": "code",
      "source": [
        "print(df.loc[6,'CustomerID'])"
      ],
      "metadata": {
        "colab": {
          "base_uri": "https://localhost:8080/"
        },
        "id": "K49FFIWH1aHn",
        "outputId": "8f57bb47-cf1a-4a00-de86-6cd5229595eb"
      },
      "execution_count": 12,
      "outputs": [
        {
          "output_type": "stream",
          "name": "stdout",
          "text": [
            "CUST1006\n"
          ]
        }
      ]
    },
    {
      "cell_type": "code",
      "source": [
        "print(df.loc[10,['CustomerID','Status']])"
      ],
      "metadata": {
        "colab": {
          "base_uri": "https://localhost:8080/"
        },
        "id": "RfA_7uXC1nHc",
        "outputId": "708a0a64-efb2-4f5c-eeb1-a5be3216b420"
      },
      "execution_count": 13,
      "outputs": [
        {
          "output_type": "stream",
          "name": "stdout",
          "text": [
            "CustomerID     CUST1010\n",
            "Status        Off Track\n",
            "Name: 10, dtype: object\n"
          ]
        }
      ]
    },
    {
      "cell_type": "code",
      "source": [
        "print(df.loc[6:11,('CustomerID','BMI')])"
      ],
      "metadata": {
        "colab": {
          "base_uri": "https://localhost:8080/"
        },
        "id": "zW76UP8Z1w16",
        "outputId": "76ebc28b-8f51-4618-c093-146420f9f38a"
      },
      "execution_count": 17,
      "outputs": [
        {
          "output_type": "stream",
          "name": "stdout",
          "text": [
            "   CustomerID   BMI\n",
            "6    CUST1006  20.7\n",
            "7    CUST1007  26.1\n",
            "8    CUST1008  31.2\n",
            "9    CUST1009  22.5\n",
            "10   CUST1010  25.2\n",
            "11   CUST1011  31.6\n"
          ]
        }
      ]
    },
    {
      "cell_type": "markdown",
      "source": [
        "#Sorting Data"
      ],
      "metadata": {
        "id": "d7n7BcUW4PMW"
      }
    },
    {
      "cell_type": "code",
      "source": [
        "res=df.sort_values('CustomerID')\n",
        "print(res)"
      ],
      "metadata": {
        "colab": {
          "base_uri": "https://localhost:8080/"
        },
        "id": "npzswgq24Svq",
        "outputId": "4622261b-9efc-49db-c693-e574039ecab0"
      },
      "execution_count": 18,
      "outputs": [
        {
          "output_type": "stream",
          "name": "stdout",
          "text": [
            "    CustomerID  Age  Gender  Weight  Height   BMI  ExerciseTime Smoking  \\\n",
            "0     CUST1000   56    Male      72     181  22.0            11      No   \n",
            "1     CUST1001   46  Female      75     180  23.1            69      No   \n",
            "2     CUST1002   32  Female      83     165  30.5            16      No   \n",
            "3     CUST1003   60  Female      95     181  29.0           114      No   \n",
            "4     CUST1004   25    Male      83     181  25.3            18      No   \n",
            "..         ...  ...     ...     ...     ...   ...           ...     ...   \n",
            "995   CUST1995   22    Male      61     154  25.7            79      No   \n",
            "996   CUST1996   40    Male      76     166  27.6            71      No   \n",
            "997   CUST1997   27  Female      89     169  31.2            96      No   \n",
            "998   CUST1998   61    Male      51     190  14.1           112     Yes   \n",
            "999   CUST1999   19    Male      62     195  16.3            11     Yes   \n",
            "\n",
            "    Alcohol  CaloriesIntake  StepsDay  FitnessGoal     Status MembershipType  \\\n",
            "0        No            2034     12940  Maintenance  Off Track        Premium   \n",
            "1        No            3216      9240  Weight Loss   On Track        Premium   \n",
            "2       Yes            2816     14363  Muscle Gain  Off Track        Premium   \n",
            "3        No            2532      6408  Weight Loss  Off Track        Premium   \n",
            "4       Yes            2794      4861  Muscle Gain  Off Track          Basic   \n",
            "..      ...             ...       ...          ...        ...            ...   \n",
            "995      No            2858      7957  Weight Loss  Off Track          Basic   \n",
            "996      No            3287      1766  Maintenance  Off Track        Premium   \n",
            "997     Yes            1868      3681  Muscle Gain  Off Track        Premium   \n",
            "998      No            3384      8710  Weight Loss  Off Track        Premium   \n",
            "999     Yes            3107      8482  Muscle Gain  Off Track        Premium   \n",
            "\n",
            "    Region  \n",
            "0     West  \n",
            "1     East  \n",
            "2    South  \n",
            "3     West  \n",
            "4    South  \n",
            "..     ...  \n",
            "995  South  \n",
            "996  South  \n",
            "997  North  \n",
            "998  South  \n",
            "999  North  \n",
            "\n",
            "[1000 rows x 15 columns]\n"
          ]
        }
      ]
    },
    {
      "cell_type": "code",
      "source": [
        "res=df.sort_values('ExerciseTime')\n",
        "print(res)"
      ],
      "metadata": {
        "colab": {
          "base_uri": "https://localhost:8080/"
        },
        "id": "feTjy35b4TrE",
        "outputId": "75fb8fd0-701e-4003-91f1-785e9bd0f8ef"
      },
      "execution_count": 19,
      "outputs": [
        {
          "output_type": "stream",
          "name": "stdout",
          "text": [
            "    CustomerID  Age  Gender  Weight  Height   BMI  ExerciseTime Smoking  \\\n",
            "111   CUST1111   58    Male      61     158  24.4             0     Yes   \n",
            "772   CUST1772   29    Male      67     167  24.0             0      No   \n",
            "102   CUST1102   28  Female      82     170  28.4             0     Yes   \n",
            "894   CUST1894   52  Female      97     153  41.4             0      No   \n",
            "676   CUST1676   20  Female      62     151  27.2             0      No   \n",
            "..         ...  ...     ...     ...     ...   ...           ...     ...   \n",
            "458   CUST1458   31    Male      95     180  29.3           119     Yes   \n",
            "671   CUST1671   58  Female      57     161  22.0           119      No   \n",
            "793   CUST1793   47    Male      70     178  22.1           119      No   \n",
            "281   CUST1281   25    Male      94     199  23.7           119      No   \n",
            "222   CUST1222   34    Male      73     175  23.8           119     Yes   \n",
            "\n",
            "    Alcohol  CaloriesIntake  StepsDay  FitnessGoal     Status MembershipType  \\\n",
            "111      No            1585      3824  Muscle Gain  Off Track        Premium   \n",
            "772     Yes            1888      6057  Muscle Gain  Off Track          Basic   \n",
            "102     Yes            1634      2074  Weight Loss  Off Track        Premium   \n",
            "894     Yes            2819     13740  Maintenance  Off Track          Basic   \n",
            "676     Yes            2262     11871  Muscle Gain  Off Track          Basic   \n",
            "..      ...             ...       ...          ...        ...            ...   \n",
            "458      No            3334      5615  Muscle Gain  Off Track          Basic   \n",
            "671      No            2336      2209  Muscle Gain  Off Track        Premium   \n",
            "793      No            2834      7363  Maintenance   On Track        Premium   \n",
            "281      No            2138      7683  Muscle Gain   On Track          Basic   \n",
            "222      No            2516     12910  Maintenance   On Track        Premium   \n",
            "\n",
            "    Region  \n",
            "111   East  \n",
            "772  North  \n",
            "102   East  \n",
            "894   East  \n",
            "676  North  \n",
            "..     ...  \n",
            "458  North  \n",
            "671  South  \n",
            "793   East  \n",
            "281  North  \n",
            "222  South  \n",
            "\n",
            "[1000 rows x 15 columns]\n"
          ]
        }
      ]
    },
    {
      "cell_type": "code",
      "source": [
        "res=df.sort_values('Age',ascending=False)\n",
        "print(res)"
      ],
      "metadata": {
        "colab": {
          "base_uri": "https://localhost:8080/"
        },
        "id": "V0Rbl4JV4Tnh",
        "outputId": "1753926e-6281-43ba-a317-0042bfc2d1e9"
      },
      "execution_count": 20,
      "outputs": [
        {
          "output_type": "stream",
          "name": "stdout",
          "text": [
            "    CustomerID  Age  Gender  Weight  Height   BMI  ExerciseTime Smoking  \\\n",
            "890   CUST1890   64    Male      70     161  27.0            14      No   \n",
            "917   CUST1917   64  Female      99     186  28.6           108      No   \n",
            "919   CUST1919   64  Female      70     186  20.2            63      No   \n",
            "922   CUST1922   64    Male      83     155  34.5            66      No   \n",
            "821   CUST1821   64    Male      59     192  16.0            91      No   \n",
            "..         ...  ...     ...     ...     ...   ...           ...     ...   \n",
            "179   CUST1179   18    Male      67     185  19.6            52      No   \n",
            "438   CUST1438   18    Male      64     153  27.3           115     Yes   \n",
            "437   CUST1437   18  Female      70     186  20.2             6      No   \n",
            "675   CUST1675   18    Male      54     193  14.5           114      No   \n",
            "484   CUST1484   18  Female      92     158  36.9            95      No   \n",
            "\n",
            "    Alcohol  CaloriesIntake  StepsDay  FitnessGoal     Status MembershipType  \\\n",
            "890      No            3002      6424  Weight Loss  Off Track          Basic   \n",
            "917      No            2033      6559  Maintenance  Off Track          Basic   \n",
            "919      No            2630      3513  Weight Loss  Off Track        Premium   \n",
            "922      No            1726      7944  Maintenance  Off Track          Basic   \n",
            "821      No            1826      3975  Muscle Gain  Off Track          Basic   \n",
            "..      ...             ...       ...          ...        ...            ...   \n",
            "179      No            2381      1604  Muscle Gain  Off Track          Basic   \n",
            "438      No            2655     10485  Weight Loss  Off Track          Basic   \n",
            "437      No            2673      1074  Muscle Gain  Off Track          Basic   \n",
            "675     Yes            2257      3178  Maintenance  Off Track        Premium   \n",
            "484      No            2253      5675  Maintenance  Off Track          Basic   \n",
            "\n",
            "    Region  \n",
            "890  South  \n",
            "917   West  \n",
            "919   West  \n",
            "922  South  \n",
            "821   West  \n",
            "..     ...  \n",
            "179   West  \n",
            "438  North  \n",
            "437  South  \n",
            "675   East  \n",
            "484  South  \n",
            "\n",
            "[1000 rows x 15 columns]\n"
          ]
        }
      ]
    },
    {
      "cell_type": "markdown",
      "source": [
        "#Filtering Data"
      ],
      "metadata": {
        "id": "3T-s44fcIsJ8"
      }
    },
    {
      "cell_type": "code",
      "source": [
        "print(df[df['Status']=='Off Track'])"
      ],
      "metadata": {
        "colab": {
          "base_uri": "https://localhost:8080/"
        },
        "id": "cOU81tAoIvVK",
        "outputId": "ca87d88d-017e-4d6c-f68a-0a6e2d94a270"
      },
      "execution_count": 56,
      "outputs": [
        {
          "output_type": "stream",
          "name": "stdout",
          "text": [
            "    CustomerID  Age  Gender  Weight  Height   BMI  ExerciseTime Smoking  \\\n",
            "0     CUST1000   56    Male      72     181  22.0            11      No   \n",
            "2     CUST1002   32  Female      83     165  30.5            16      No   \n",
            "3     CUST1003   60  Female      95     181  29.0           114      No   \n",
            "4     CUST1004   25    Male      83     181  25.3            18      No   \n",
            "5     CUST1005   38    Male      78     183  23.3            25      No   \n",
            "..         ...  ...     ...     ...     ...   ...           ...     ...   \n",
            "995   CUST1995   22    Male      61     154  25.7            79      No   \n",
            "996   CUST1996   40    Male      76     166  27.6            71      No   \n",
            "997   CUST1997   27  Female      89     169  31.2            96      No   \n",
            "998   CUST1998   61    Male      51     190  14.1           112     Yes   \n",
            "999   CUST1999   19    Male      62     195  16.3            11     Yes   \n",
            "\n",
            "    Alcohol  CaloriesIntake  StepsDay  FitnessGoal     Status MembershipType  \\\n",
            "0        No            2034     12940  Maintenance  Off Track        Premium   \n",
            "2       Yes            2816     14363  Muscle Gain  Off Track        Premium   \n",
            "3        No            2532      6408  Weight Loss  Off Track        Premium   \n",
            "4       Yes            2794      4861  Muscle Gain  Off Track          Basic   \n",
            "5        No            2910     14937  Muscle Gain  Off Track        Premium   \n",
            "..      ...             ...       ...          ...        ...            ...   \n",
            "995      No            2858      7957  Weight Loss  Off Track          Basic   \n",
            "996      No            3287      1766  Maintenance  Off Track        Premium   \n",
            "997     Yes            1868      3681  Muscle Gain  Off Track        Premium   \n",
            "998      No            3384      8710  Weight Loss  Off Track        Premium   \n",
            "999     Yes            3107      8482  Muscle Gain  Off Track        Premium   \n",
            "\n",
            "    Region  \n",
            "0     West  \n",
            "2    South  \n",
            "3     West  \n",
            "4    South  \n",
            "5    South  \n",
            "..     ...  \n",
            "995  South  \n",
            "996  South  \n",
            "997  North  \n",
            "998  South  \n",
            "999  North  \n",
            "\n",
            "[832 rows x 15 columns]\n"
          ]
        }
      ]
    },
    {
      "cell_type": "code",
      "source": [
        "print(df[df['Gender']!='Male'])"
      ],
      "metadata": {
        "colab": {
          "base_uri": "https://localhost:8080/"
        },
        "id": "s2qS5gzPIwds",
        "outputId": "cf95577b-268c-46f5-c465-c4f91bae0b4c"
      },
      "execution_count": 57,
      "outputs": [
        {
          "output_type": "stream",
          "name": "stdout",
          "text": [
            "     CustomerID  Age  Gender  Weight  Height    BMI  ExerciseTime Smoking  \\\n",
            "1      CUST1001   46  Female      75     180  23.10            69      No   \n",
            "2      CUST1002   32  Female      83     165  30.50            16      No   \n",
            "3      CUST1003   60  Female      95     181  29.00           114      No   \n",
            "12     CUST1012   53  Female      64     158  25.60            54      No   \n",
            "13     CUST1013   57  Female      78     174  25.80            99     Yes   \n",
            "...         ...  ...     ...     ...     ...    ...           ...     ...   \n",
            "987    CUST1987   28  Female      63     160  24.60            66      No   \n",
            "989    CUST1989   30  Female      90     196  23.40            15      No   \n",
            "994    CUST1994   27  Female      85     177  27.10           115      No   \n",
            "997    CUST1997   27  Female      89     169  31.20            96      No   \n",
            "1000   CUST2000   25  Female      60     165  22.04            45      No   \n",
            "\n",
            "           Alcohol  CaloriesIntake  StepsDay  FitnessGoal     Status  \\\n",
            "1               No            3216      9240  Weight Loss   On Track   \n",
            "2              Yes            2816     14363  Muscle Gain  Off Track   \n",
            "3               No            2532      6408  Weight Loss  Off Track   \n",
            "12              No            2672      8645  Muscle Gain  Off Track   \n",
            "13              No            2388     13018  Muscle Gain  Off Track   \n",
            "...            ...             ...       ...          ...        ...   \n",
            "987             No            2614      3860  Weight Loss  Off Track   \n",
            "989             No            2593     12182  Muscle Gain  Off Track   \n",
            "994            Yes            3124      4782  Muscle Gain  Off Track   \n",
            "997            Yes            1868      3681  Muscle Gain  Off Track   \n",
            "1000  Occasionally            1800      8000  Weight Loss     Active   \n",
            "\n",
            "     MembershipType Region  \n",
            "1           Premium   East  \n",
            "2           Premium  South  \n",
            "3           Premium   West  \n",
            "12          Premium  North  \n",
            "13          Premium   East  \n",
            "...             ...    ...  \n",
            "987           Basic   West  \n",
            "989         Premium   East  \n",
            "994         Premium   East  \n",
            "997         Premium  North  \n",
            "1000        Premium   East  \n",
            "\n",
            "[475 rows x 15 columns]\n"
          ]
        }
      ]
    },
    {
      "cell_type": "code",
      "source": [
        "print(df[df['Weight']<=50])"
      ],
      "metadata": {
        "colab": {
          "base_uri": "https://localhost:8080/"
        },
        "id": "aClskV9FKdZx",
        "outputId": "8327b274-c73b-4e0e-9808-506b1c03ffe6"
      },
      "execution_count": 58,
      "outputs": [
        {
          "output_type": "stream",
          "name": "stdout",
          "text": [
            "    CustomerID  Age  Gender  Weight  Height   BMI  ExerciseTime Smoking  \\\n",
            "38    CUST1038   24  Female      50     170  17.3           108      No   \n",
            "277   CUST1277   41  Female      50     167  17.9            32      No   \n",
            "296   CUST1296   33  Female      50     191  13.7            67     Yes   \n",
            "302   CUST1302   31  Female      50     167  17.9            83     Yes   \n",
            "328   CUST1328   22  Female      50     188  14.1            12      No   \n",
            "363   CUST1363   39  Female      50     175  16.3            64      No   \n",
            "373   CUST1373   26  Female      50     163  18.8             9     Yes   \n",
            "393   CUST1393   40    Male      50     192  13.6           110      No   \n",
            "433   CUST1433   43    Male      50     186  14.5            24      No   \n",
            "439   CUST1439   64    Male      50     179  15.6            56      No   \n",
            "547   CUST1547   41    Male      50     158  20.0            60     Yes   \n",
            "701   CUST1701   26    Male      50     184  14.8            90      No   \n",
            "728   CUST1728   42  Female      50     198  12.8            68      No   \n",
            "781   CUST1781   32    Male      50     168  17.7            97      No   \n",
            "874   CUST1874   31    Male      50     159  19.8           110      No   \n",
            "911   CUST1911   21  Female      50     199  12.6            80      No   \n",
            "936   CUST1936   50  Female      50     154  21.1            77      No   \n",
            "944   CUST1944   47  Female      50     172  16.9            87      No   \n",
            "\n",
            "    Alcohol  CaloriesIntake  StepsDay  FitnessGoal     Status MembershipType  \\\n",
            "38      Yes            2457      3707  Weight Loss  Off Track        Premium   \n",
            "277      No            2701     11750  Muscle Gain  Off Track          Basic   \n",
            "296      No            3143      6956  Muscle Gain  Off Track        Premium   \n",
            "302      No            3376      9488  Maintenance  Off Track        Premium   \n",
            "328     Yes            1755      1546  Muscle Gain  Off Track        Premium   \n",
            "363      No            2267     14926  Weight Loss  Off Track        Premium   \n",
            "373      No            3118      6362  Weight Loss  Off Track          Basic   \n",
            "393      No            2832     12560  Weight Loss  Off Track          Basic   \n",
            "433      No            2060      5016  Muscle Gain  Off Track        Premium   \n",
            "439      No            1932     11114  Weight Loss  Off Track        Premium   \n",
            "547      No            2651      5651  Muscle Gain  Off Track        Premium   \n",
            "701     Yes            2279      6643  Weight Loss  Off Track        Premium   \n",
            "728      No            1932      1754  Maintenance  Off Track          Basic   \n",
            "781     Yes            2935      5362  Muscle Gain  Off Track          Basic   \n",
            "874      No            2222     14809  Maintenance   On Track          Basic   \n",
            "911      No            1679     11637  Maintenance  Off Track        Premium   \n",
            "936      No            2791      1595  Maintenance  Off Track        Premium   \n",
            "944      No            2859      6519  Weight Loss  Off Track          Basic   \n",
            "\n",
            "    Region  \n",
            "38   South  \n",
            "277   East  \n",
            "296   East  \n",
            "302   West  \n",
            "328   East  \n",
            "363  North  \n",
            "373   East  \n",
            "393  North  \n",
            "433   West  \n",
            "439  North  \n",
            "547   West  \n",
            "701   East  \n",
            "728  South  \n",
            "781  North  \n",
            "874  North  \n",
            "911   East  \n",
            "936   West  \n",
            "944  South  \n"
          ]
        }
      ]
    },
    {
      "cell_type": "code",
      "source": [
        "print(df[(df['Gender']=='Male') & (df['BMI']>14.0)])"
      ],
      "metadata": {
        "colab": {
          "base_uri": "https://localhost:8080/"
        },
        "id": "2KeHvmLsIwJ-",
        "outputId": "743df1ab-ceca-420b-8a8a-683523e24d26"
      },
      "execution_count": 59,
      "outputs": [
        {
          "output_type": "stream",
          "name": "stdout",
          "text": [
            "    CustomerID  Age Gender  Weight  Height   BMI  ExerciseTime Smoking  \\\n",
            "0     CUST1000   56   Male      72     181  22.0            11      No   \n",
            "4     CUST1004   25   Male      83     181  25.3            18      No   \n",
            "5     CUST1005   38   Male      78     183  23.3            25      No   \n",
            "6     CUST1006   56   Male      53     160  20.7            47      No   \n",
            "7     CUST1007   36   Male      66     159  26.1           107     Yes   \n",
            "..         ...  ...    ...     ...     ...   ...           ...     ...   \n",
            "993   CUST1993   23   Male      70     188  19.8            81     Yes   \n",
            "995   CUST1995   22   Male      61     154  25.7            79      No   \n",
            "996   CUST1996   40   Male      76     166  27.6            71      No   \n",
            "998   CUST1998   61   Male      51     190  14.1           112     Yes   \n",
            "999   CUST1999   19   Male      62     195  16.3            11     Yes   \n",
            "\n",
            "    Alcohol  CaloriesIntake  StepsDay  FitnessGoal     Status MembershipType  \\\n",
            "0        No            2034     12940  Maintenance  Off Track        Premium   \n",
            "4       Yes            2794      4861  Muscle Gain  Off Track          Basic   \n",
            "5        No            2910     14937  Muscle Gain  Off Track        Premium   \n",
            "6        No            1592      8406  Weight Loss   On Track        Premium   \n",
            "7       Yes            3489     11372  Maintenance  Off Track        Premium   \n",
            "..      ...             ...       ...          ...        ...            ...   \n",
            "993      No            3375      4253  Muscle Gain  Off Track          Basic   \n",
            "995      No            2858      7957  Weight Loss  Off Track          Basic   \n",
            "996      No            3287      1766  Maintenance  Off Track        Premium   \n",
            "998      No            3384      8710  Weight Loss  Off Track        Premium   \n",
            "999     Yes            3107      8482  Muscle Gain  Off Track        Premium   \n",
            "\n",
            "    Region  \n",
            "0     West  \n",
            "4    South  \n",
            "5    South  \n",
            "6    North  \n",
            "7    South  \n",
            "..     ...  \n",
            "993   East  \n",
            "995  South  \n",
            "996  South  \n",
            "998  South  \n",
            "999  North  \n",
            "\n",
            "[520 rows x 15 columns]\n"
          ]
        }
      ]
    },
    {
      "cell_type": "code",
      "source": [
        "print(df[(df['Gender']=='Male') | (df['BMI']>14.0)])"
      ],
      "metadata": {
        "colab": {
          "base_uri": "https://localhost:8080/"
        },
        "id": "sfKWHpCmIv9D",
        "outputId": "77a3038e-fcab-48e8-f271-453f434242ce"
      },
      "execution_count": 60,
      "outputs": [
        {
          "output_type": "stream",
          "name": "stdout",
          "text": [
            "     CustomerID  Age  Gender  Weight  Height    BMI  ExerciseTime Smoking  \\\n",
            "0      CUST1000   56    Male      72     181  22.00            11      No   \n",
            "1      CUST1001   46  Female      75     180  23.10            69      No   \n",
            "2      CUST1002   32  Female      83     165  30.50            16      No   \n",
            "3      CUST1003   60  Female      95     181  29.00           114      No   \n",
            "4      CUST1004   25    Male      83     181  25.30            18      No   \n",
            "...         ...  ...     ...     ...     ...    ...           ...     ...   \n",
            "996    CUST1996   40    Male      76     166  27.60            71      No   \n",
            "997    CUST1997   27  Female      89     169  31.20            96      No   \n",
            "998    CUST1998   61    Male      51     190  14.10           112     Yes   \n",
            "999    CUST1999   19    Male      62     195  16.30            11     Yes   \n",
            "1000   CUST2000   25  Female      60     165  22.04            45      No   \n",
            "\n",
            "           Alcohol  CaloriesIntake  StepsDay  FitnessGoal     Status  \\\n",
            "0               No            2034     12940  Maintenance  Off Track   \n",
            "1               No            3216      9240  Weight Loss   On Track   \n",
            "2              Yes            2816     14363  Muscle Gain  Off Track   \n",
            "3               No            2532      6408  Weight Loss  Off Track   \n",
            "4              Yes            2794      4861  Muscle Gain  Off Track   \n",
            "...            ...             ...       ...          ...        ...   \n",
            "996             No            3287      1766  Maintenance  Off Track   \n",
            "997            Yes            1868      3681  Muscle Gain  Off Track   \n",
            "998             No            3384      8710  Weight Loss  Off Track   \n",
            "999            Yes            3107      8482  Muscle Gain  Off Track   \n",
            "1000  Occasionally            1800      8000  Weight Loss     Active   \n",
            "\n",
            "     MembershipType Region  \n",
            "0           Premium   West  \n",
            "1           Premium   East  \n",
            "2           Premium  South  \n",
            "3           Premium   West  \n",
            "4             Basic  South  \n",
            "...             ...    ...  \n",
            "996         Premium  South  \n",
            "997         Premium  North  \n",
            "998         Premium  South  \n",
            "999         Premium  North  \n",
            "1000        Premium   East  \n",
            "\n",
            "[989 rows x 15 columns]\n"
          ]
        }
      ]
    },
    {
      "cell_type": "code",
      "source": [
        "print(df[df['CustomerID'].isin(['CUST1010','CUST1029','CUST1039','CUST1043','CUST1045'])])"
      ],
      "metadata": {
        "colab": {
          "base_uri": "https://localhost:8080/"
        },
        "id": "OBpmTF9pJYtG",
        "outputId": "afc8f429-f547-4d5b-de3a-7dd8e01bfb1b"
      },
      "execution_count": 61,
      "outputs": [
        {
          "output_type": "stream",
          "name": "stdout",
          "text": [
            "   CustomerID  Age  Gender  Weight  Height   BMI  ExerciseTime Smoking  \\\n",
            "10   CUST1010   28    Male      90     189  25.2            95      No   \n",
            "29   CUST1029   44  Female      70     179  21.8            77     Yes   \n",
            "39   CUST1039   38    Male      87     157  35.3            34      No   \n",
            "43   CUST1043   21    Male      98     156  40.3           115      No   \n",
            "45   CUST1045   31  Female      73     193  19.6            80      No   \n",
            "\n",
            "   Alcohol  CaloriesIntake  StepsDay  FitnessGoal     Status MembershipType  \\\n",
            "10     Yes            1904      6285  Weight Loss  Off Track          Basic   \n",
            "29      No            1618     12931  Maintenance   On Track        Premium   \n",
            "39      No            3258      8959  Weight Loss  Off Track          Basic   \n",
            "43      No            2370      1922  Maintenance  Off Track        Premium   \n",
            "45      No            2437     11367  Muscle Gain   On Track          Basic   \n",
            "\n",
            "   Region  \n",
            "10  North  \n",
            "29   West  \n",
            "39  North  \n",
            "43   West  \n",
            "45  South  \n"
          ]
        }
      ]
    },
    {
      "cell_type": "markdown",
      "source": [
        "#Combining Data"
      ],
      "metadata": {
        "id": "P-OSoRMd5Xf7"
      }
    },
    {
      "cell_type": "code",
      "source": [
        "print(df.head(3))"
      ],
      "metadata": {
        "colab": {
          "base_uri": "https://localhost:8080/"
        },
        "id": "4wUfVJwz4Tkn",
        "outputId": "a2baa7a5-5822-4c7b-d40c-38f2f75d0ef5"
      },
      "execution_count": 21,
      "outputs": [
        {
          "output_type": "stream",
          "name": "stdout",
          "text": [
            "  CustomerID  Age  Gender  Weight  Height   BMI  ExerciseTime Smoking Alcohol  \\\n",
            "0   CUST1000   56    Male      72     181  22.0            11      No      No   \n",
            "1   CUST1001   46  Female      75     180  23.1            69      No      No   \n",
            "2   CUST1002   32  Female      83     165  30.5            16      No     Yes   \n",
            "\n",
            "   CaloriesIntake  StepsDay  FitnessGoal     Status MembershipType Region  \n",
            "0            2034     12940  Maintenance  Off Track        Premium   West  \n",
            "1            3216      9240  Weight Loss   On Track        Premium   East  \n",
            "2            2816     14363  Muscle Gain  Off Track        Premium  South  \n"
          ]
        }
      ]
    },
    {
      "cell_type": "code",
      "source": [
        "print(df.tail(2))"
      ],
      "metadata": {
        "colab": {
          "base_uri": "https://localhost:8080/"
        },
        "id": "VfDDls4N4TiK",
        "outputId": "5440103f-0ccf-4a4c-f14b-c289ffa24f88"
      },
      "execution_count": 22,
      "outputs": [
        {
          "output_type": "stream",
          "name": "stdout",
          "text": [
            "    CustomerID  Age Gender  Weight  Height   BMI  ExerciseTime Smoking  \\\n",
            "998   CUST1998   61   Male      51     190  14.1           112     Yes   \n",
            "999   CUST1999   19   Male      62     195  16.3            11     Yes   \n",
            "\n",
            "    Alcohol  CaloriesIntake  StepsDay  FitnessGoal     Status MembershipType  \\\n",
            "998      No            3384      8710  Weight Loss  Off Track        Premium   \n",
            "999     Yes            3107      8482  Muscle Gain  Off Track        Premium   \n",
            "\n",
            "    Region  \n",
            "998  South  \n",
            "999  North  \n"
          ]
        }
      ]
    },
    {
      "cell_type": "code",
      "source": [
        "#Combinig Rows\n",
        "res=pandas.concat([df.head(3),df.tail(2)])\n",
        "print(res)"
      ],
      "metadata": {
        "colab": {
          "base_uri": "https://localhost:8080/"
        },
        "id": "GBad7Aym4Tfm",
        "outputId": "00bcd071-ef4b-4a6c-9093-9b5a00625d35"
      },
      "execution_count": 23,
      "outputs": [
        {
          "output_type": "stream",
          "name": "stdout",
          "text": [
            "    CustomerID  Age  Gender  Weight  Height   BMI  ExerciseTime Smoking  \\\n",
            "0     CUST1000   56    Male      72     181  22.0            11      No   \n",
            "1     CUST1001   46  Female      75     180  23.1            69      No   \n",
            "2     CUST1002   32  Female      83     165  30.5            16      No   \n",
            "998   CUST1998   61    Male      51     190  14.1           112     Yes   \n",
            "999   CUST1999   19    Male      62     195  16.3            11     Yes   \n",
            "\n",
            "    Alcohol  CaloriesIntake  StepsDay  FitnessGoal     Status MembershipType  \\\n",
            "0        No            2034     12940  Maintenance  Off Track        Premium   \n",
            "1        No            3216      9240  Weight Loss   On Track        Premium   \n",
            "2       Yes            2816     14363  Muscle Gain  Off Track        Premium   \n",
            "998      No            3384      8710  Weight Loss  Off Track        Premium   \n",
            "999     Yes            3107      8482  Muscle Gain  Off Track        Premium   \n",
            "\n",
            "    Region  \n",
            "0     West  \n",
            "1     East  \n",
            "2    South  \n",
            "998  South  \n",
            "999  North  \n"
          ]
        }
      ]
    },
    {
      "cell_type": "code",
      "source": [
        "df1=df[['Age','Gender','Weight','Height']]\n",
        "df2=df[['BMI']]\n",
        "print(df1)\n",
        "print(df2)"
      ],
      "metadata": {
        "colab": {
          "base_uri": "https://localhost:8080/"
        },
        "id": "rntQimR24Tc4",
        "outputId": "810c4a1b-1a22-467e-d31c-b1baf5f37802"
      },
      "execution_count": 24,
      "outputs": [
        {
          "output_type": "stream",
          "name": "stdout",
          "text": [
            "     Age  Gender  Weight  Height\n",
            "0     56    Male      72     181\n",
            "1     46  Female      75     180\n",
            "2     32  Female      83     165\n",
            "3     60  Female      95     181\n",
            "4     25    Male      83     181\n",
            "..   ...     ...     ...     ...\n",
            "995   22    Male      61     154\n",
            "996   40    Male      76     166\n",
            "997   27  Female      89     169\n",
            "998   61    Male      51     190\n",
            "999   19    Male      62     195\n",
            "\n",
            "[1000 rows x 4 columns]\n",
            "      BMI\n",
            "0    22.0\n",
            "1    23.1\n",
            "2    30.5\n",
            "3    29.0\n",
            "4    25.3\n",
            "..    ...\n",
            "995  25.7\n",
            "996  27.6\n",
            "997  31.2\n",
            "998  14.1\n",
            "999  16.3\n",
            "\n",
            "[1000 rows x 1 columns]\n"
          ]
        }
      ]
    },
    {
      "cell_type": "code",
      "source": [
        "#combining columns\n",
        "res=pandas.concat([df1,df2],axis=1)\n",
        "print(res)"
      ],
      "metadata": {
        "colab": {
          "base_uri": "https://localhost:8080/"
        },
        "id": "m0Q1R9974TZ3",
        "outputId": "0c781560-4f3f-4f7c-b432-2ed6b0800d01"
      },
      "execution_count": 25,
      "outputs": [
        {
          "output_type": "stream",
          "name": "stdout",
          "text": [
            "     Age  Gender  Weight  Height   BMI\n",
            "0     56    Male      72     181  22.0\n",
            "1     46  Female      75     180  23.1\n",
            "2     32  Female      83     165  30.5\n",
            "3     60  Female      95     181  29.0\n",
            "4     25    Male      83     181  25.3\n",
            "..   ...     ...     ...     ...   ...\n",
            "995   22    Male      61     154  25.7\n",
            "996   40    Male      76     166  27.6\n",
            "997   27  Female      89     169  31.2\n",
            "998   61    Male      51     190  14.1\n",
            "999   19    Male      62     195  16.3\n",
            "\n",
            "[1000 rows x 5 columns]\n"
          ]
        }
      ]
    },
    {
      "cell_type": "markdown",
      "source": [
        "#Grouping Data"
      ],
      "metadata": {
        "id": "8pT5PgYT60Rc"
      }
    },
    {
      "cell_type": "code",
      "source": [
        "dfgroups=df.groupby('Gender')\n",
        "print(dfgroups)"
      ],
      "metadata": {
        "colab": {
          "base_uri": "https://localhost:8080/"
        },
        "id": "-PYCeDjH4TXT",
        "outputId": "f9c28567-ed60-4b67-e2cc-81c1b44e5e92"
      },
      "execution_count": 26,
      "outputs": [
        {
          "output_type": "stream",
          "name": "stdout",
          "text": [
            "<pandas.core.groupby.generic.DataFrameGroupBy object at 0x79dfdc8416d0>\n"
          ]
        }
      ]
    },
    {
      "cell_type": "code",
      "source": [
        "for gr in dfgroups:\n",
        "  print(gr)\n",
        "  print(\"--------------------\")"
      ],
      "metadata": {
        "colab": {
          "base_uri": "https://localhost:8080/"
        },
        "id": "Q9mjJqwU4TP-",
        "outputId": "91ed3c69-6ffd-46cb-da06-8c82e29cf512"
      },
      "execution_count": 27,
      "outputs": [
        {
          "output_type": "stream",
          "name": "stdout",
          "text": [
            "('Female',     CustomerID  Age  Gender  Weight  Height   BMI  ExerciseTime Smoking  \\\n",
            "1     CUST1001   46  Female      75     180  23.1            69      No   \n",
            "2     CUST1002   32  Female      83     165  30.5            16      No   \n",
            "3     CUST1003   60  Female      95     181  29.0           114      No   \n",
            "12    CUST1012   53  Female      64     158  25.6            54      No   \n",
            "13    CUST1013   57  Female      78     174  25.8            99     Yes   \n",
            "..         ...  ...     ...     ...     ...   ...           ...     ...   \n",
            "984   CUST1984   31  Female      98     168  34.7            77      No   \n",
            "987   CUST1987   28  Female      63     160  24.6            66      No   \n",
            "989   CUST1989   30  Female      90     196  23.4            15      No   \n",
            "994   CUST1994   27  Female      85     177  27.1           115      No   \n",
            "997   CUST1997   27  Female      89     169  31.2            96      No   \n",
            "\n",
            "    Alcohol  CaloriesIntake  StepsDay  FitnessGoal     Status MembershipType  \\\n",
            "1        No            3216      9240  Weight Loss   On Track        Premium   \n",
            "2       Yes            2816     14363  Muscle Gain  Off Track        Premium   \n",
            "3        No            2532      6408  Weight Loss  Off Track        Premium   \n",
            "12       No            2672      8645  Muscle Gain  Off Track        Premium   \n",
            "13       No            2388     13018  Muscle Gain  Off Track        Premium   \n",
            "..      ...             ...       ...          ...        ...            ...   \n",
            "984      No            1825      5864  Weight Loss  Off Track          Basic   \n",
            "987      No            2614      3860  Weight Loss  Off Track          Basic   \n",
            "989      No            2593     12182  Muscle Gain  Off Track        Premium   \n",
            "994     Yes            3124      4782  Muscle Gain  Off Track        Premium   \n",
            "997     Yes            1868      3681  Muscle Gain  Off Track        Premium   \n",
            "\n",
            "    Region  \n",
            "1     East  \n",
            "2    South  \n",
            "3     West  \n",
            "12   North  \n",
            "13    East  \n",
            "..     ...  \n",
            "984   East  \n",
            "987   West  \n",
            "989   East  \n",
            "994   East  \n",
            "997  North  \n",
            "\n",
            "[474 rows x 15 columns])\n",
            "--------------------\n",
            "('Male',     CustomerID  Age Gender  Weight  Height   BMI  ExerciseTime Smoking  \\\n",
            "0     CUST1000   56   Male      72     181  22.0            11      No   \n",
            "4     CUST1004   25   Male      83     181  25.3            18      No   \n",
            "5     CUST1005   38   Male      78     183  23.3            25      No   \n",
            "6     CUST1006   56   Male      53     160  20.7            47      No   \n",
            "7     CUST1007   36   Male      66     159  26.1           107     Yes   \n",
            "..         ...  ...    ...     ...     ...   ...           ...     ...   \n",
            "993   CUST1993   23   Male      70     188  19.8            81     Yes   \n",
            "995   CUST1995   22   Male      61     154  25.7            79      No   \n",
            "996   CUST1996   40   Male      76     166  27.6            71      No   \n",
            "998   CUST1998   61   Male      51     190  14.1           112     Yes   \n",
            "999   CUST1999   19   Male      62     195  16.3            11     Yes   \n",
            "\n",
            "    Alcohol  CaloriesIntake  StepsDay  FitnessGoal     Status MembershipType  \\\n",
            "0        No            2034     12940  Maintenance  Off Track        Premium   \n",
            "4       Yes            2794      4861  Muscle Gain  Off Track          Basic   \n",
            "5        No            2910     14937  Muscle Gain  Off Track        Premium   \n",
            "6        No            1592      8406  Weight Loss   On Track        Premium   \n",
            "7       Yes            3489     11372  Maintenance  Off Track        Premium   \n",
            "..      ...             ...       ...          ...        ...            ...   \n",
            "993      No            3375      4253  Muscle Gain  Off Track          Basic   \n",
            "995      No            2858      7957  Weight Loss  Off Track          Basic   \n",
            "996      No            3287      1766  Maintenance  Off Track        Premium   \n",
            "998      No            3384      8710  Weight Loss  Off Track        Premium   \n",
            "999     Yes            3107      8482  Muscle Gain  Off Track        Premium   \n",
            "\n",
            "    Region  \n",
            "0     West  \n",
            "4    South  \n",
            "5    South  \n",
            "6    North  \n",
            "7    South  \n",
            "..     ...  \n",
            "993   East  \n",
            "995  South  \n",
            "996  South  \n",
            "998  South  \n",
            "999  North  \n",
            "\n",
            "[526 rows x 15 columns])\n",
            "--------------------\n"
          ]
        }
      ]
    },
    {
      "cell_type": "code",
      "source": [
        "print(df['Gender'].value_counts())"
      ],
      "metadata": {
        "colab": {
          "base_uri": "https://localhost:8080/"
        },
        "id": "eTsYCHTZ4TB5",
        "outputId": "66ec40f6-1fcf-4d6f-c8ad-7aae00b6aba8"
      },
      "execution_count": 28,
      "outputs": [
        {
          "output_type": "stream",
          "name": "stdout",
          "text": [
            "Gender\n",
            "Male      526\n",
            "Female    474\n",
            "Name: count, dtype: int64\n"
          ]
        }
      ]
    },
    {
      "cell_type": "code",
      "source": [
        "print(df['Region'].value_counts().head(2))"
      ],
      "metadata": {
        "colab": {
          "base_uri": "https://localhost:8080/"
        },
        "id": "VoLoXqPL7q_K",
        "outputId": "892f67d0-f956-4642-f7d7-67c6da2a495b"
      },
      "execution_count": 34,
      "outputs": [
        {
          "output_type": "stream",
          "name": "stdout",
          "text": [
            "Region\n",
            "North    300\n",
            "West     243\n",
            "Name: count, dtype: int64\n"
          ]
        }
      ]
    },
    {
      "cell_type": "code",
      "source": [
        "print(df['MembershipType'].value_counts())"
      ],
      "metadata": {
        "colab": {
          "base_uri": "https://localhost:8080/"
        },
        "id": "vbqDEY1H7q7x",
        "outputId": "aa84d298-536e-42db-aa1e-acc23b6d0cf2"
      },
      "execution_count": 35,
      "outputs": [
        {
          "output_type": "stream",
          "name": "stdout",
          "text": [
            "MembershipType\n",
            "Basic      502\n",
            "Premium    498\n",
            "Name: count, dtype: int64\n"
          ]
        }
      ]
    },
    {
      "cell_type": "markdown",
      "source": [
        "#Inserting Data"
      ],
      "metadata": {
        "id": "F4vjo4CW_QCc"
      }
    },
    {
      "cell_type": "code",
      "source": [
        "new_data = {\n",
        "    'CustomerID': ['CUST2000'],\n",
        "    'Age': [25],\n",
        "    'Gender': ['Female'],\n",
        "    'Weight': [60],\n",
        "    'Height': [165],\n",
        "    'BMI': [22.04],\n",
        "    'ExerciseTime': [45],\n",
        "    'Smoking': ['No'],\n",
        "    'Alcohol': ['Occasionally'],\n",
        "    'CaloriesIntake': [1800],\n",
        "    'StepsDay': [8000],\n",
        "    'FitnessGoal': ['Weight Loss'],\n",
        "    'Status': ['Active'],\n",
        "    'MembershipType': ['Premium'],\n",
        "    'Region': ['East']\n",
        "}\n",
        "new_df = pandas.DataFrame(new_data)\n",
        "try:\n",
        "    df = pandas.read_csv(url)\n",
        "    df = pandas.concat([df, new_df], ignore_index=True)\n",
        "except FileNotFoundError:\n",
        "    df = new_df\n",
        "\n",
        "df.to_csv(url, index=False)\n",
        "\n",
        "print(\"New data inserted successfully!\")"
      ],
      "metadata": {
        "colab": {
          "base_uri": "https://localhost:8080/"
        },
        "id": "CZSXYlv67q5I",
        "outputId": "4b0feb53-7e3e-40cf-b7f1-c80bfa2f2ea4"
      },
      "execution_count": 41,
      "outputs": [
        {
          "output_type": "stream",
          "name": "stdout",
          "text": [
            "New data inserted successfully!\n"
          ]
        }
      ]
    },
    {
      "cell_type": "code",
      "source": [
        "print(df)\n"
      ],
      "metadata": {
        "colab": {
          "base_uri": "https://localhost:8080/"
        },
        "id": "o9ql7Ed27q23",
        "outputId": "8e723902-fa33-4db0-ff06-415047d467d3"
      },
      "execution_count": 42,
      "outputs": [
        {
          "output_type": "stream",
          "name": "stdout",
          "text": [
            "     CustomerID  Age  Gender  Weight  Height    BMI  ExerciseTime Smoking  \\\n",
            "0      CUST1000   56    Male      72     181  22.00            11      No   \n",
            "1      CUST1001   46  Female      75     180  23.10            69      No   \n",
            "2      CUST1002   32  Female      83     165  30.50            16      No   \n",
            "3      CUST1003   60  Female      95     181  29.00           114      No   \n",
            "4      CUST1004   25    Male      83     181  25.30            18      No   \n",
            "...         ...  ...     ...     ...     ...    ...           ...     ...   \n",
            "996    CUST1996   40    Male      76     166  27.60            71      No   \n",
            "997    CUST1997   27  Female      89     169  31.20            96      No   \n",
            "998    CUST1998   61    Male      51     190  14.10           112     Yes   \n",
            "999    CUST1999   19    Male      62     195  16.30            11     Yes   \n",
            "1000   CUST2000   25  Female      60     165  22.04            45      No   \n",
            "\n",
            "           Alcohol  CaloriesIntake  StepsDay  FitnessGoal     Status  \\\n",
            "0               No            2034     12940  Maintenance  Off Track   \n",
            "1               No            3216      9240  Weight Loss   On Track   \n",
            "2              Yes            2816     14363  Muscle Gain  Off Track   \n",
            "3               No            2532      6408  Weight Loss  Off Track   \n",
            "4              Yes            2794      4861  Muscle Gain  Off Track   \n",
            "...            ...             ...       ...          ...        ...   \n",
            "996             No            3287      1766  Maintenance  Off Track   \n",
            "997            Yes            1868      3681  Muscle Gain  Off Track   \n",
            "998             No            3384      8710  Weight Loss  Off Track   \n",
            "999            Yes            3107      8482  Muscle Gain  Off Track   \n",
            "1000  Occasionally            1800      8000  Weight Loss     Active   \n",
            "\n",
            "     MembershipType Region  \n",
            "0           Premium   West  \n",
            "1           Premium   East  \n",
            "2           Premium  South  \n",
            "3           Premium   West  \n",
            "4             Basic  South  \n",
            "...             ...    ...  \n",
            "996         Premium  South  \n",
            "997         Premium  North  \n",
            "998         Premium  South  \n",
            "999         Premium  North  \n",
            "1000        Premium   East  \n",
            "\n",
            "[1001 rows x 15 columns]\n"
          ]
        }
      ]
    },
    {
      "cell_type": "markdown",
      "source": [
        "#Joining"
      ],
      "metadata": {
        "id": "P4JrI_-SFMPE"
      }
    },
    {
      "cell_type": "code",
      "metadata": {
        "colab": {
          "base_uri": "https://localhost:8080/"
        },
        "id": "dc291b9b",
        "outputId": "f5d7aaf7-df37-4901-899f-3f931cc08790"
      },
      "source": [
        "url1 = \"https://raw.githubusercontent.com/sohamglobal/datasets/main/fitnessdata.csv\"\n",
        "df1 = pandas.read_csv(url1)\n",
        "print(df1)"
      ],
      "execution_count": 49,
      "outputs": [
        {
          "output_type": "stream",
          "name": "stdout",
          "text": [
            "    Age  Weight  ExerciseTime FitnessLevel\n",
            "0    25      68            45          Fit\n",
            "1    32      75            20        Unfit\n",
            "2    28      70            50          Fit\n",
            "3    45      82            15        Unfit\n",
            "4    23      60            60          Fit\n",
            "5    34      85            10        Unfit\n",
            "6    29      72            40          Fit\n",
            "7    40      90            25        Unfit\n",
            "8    22      58            55          Fit\n",
            "9    37      88            30        Unfit\n",
            "10   31      77            35          Fit\n",
            "11   50      95            20        Unfit\n",
            "12   27      65            50          Fit\n",
            "13   42      80            15        Unfit\n",
            "14   30      68            45          Fit\n",
            "15   36      84            25        Unfit\n",
            "16   24      62            60          Fit\n",
            "17   39      89            20        Unfit\n",
            "18   26      70            50          Fit\n",
            "19   44      92            15        Unfit\n",
            "20   33      78            40          Fit\n",
            "21   48      87            20        Unfit\n",
            "22   21      59            55          Fit\n",
            "23   35      82            30        Unfit\n",
            "24   29      66            45          Fit\n",
            "25   41      88            15        Unfit\n",
            "26   23      61            60          Fit\n",
            "27   38      90            25        Unfit\n",
            "28   28      67            50          Fit\n",
            "29   46      91            20        Unfit\n",
            "30   32      74            40          Fit\n",
            "31   49      93            10        Unfit\n",
            "32   24      60            55          Fit\n",
            "33   37      86            20        Unfit\n",
            "34   27      64            50          Fit\n",
            "35   43      89            15        Unfit\n",
            "36   25      69            45          Fit\n",
            "37   39      85            20        Unfit\n",
            "38   26      63            55          Fit\n",
            "39   45      92            10        Unfit\n",
            "40   30      71            50          Fit\n",
            "41   47      94            15        Unfit\n",
            "42   22      59            60          Fit\n",
            "43   40      90            20        Unfit\n",
            "44   28      65            45          Fit\n",
            "45   44      88            10        Unfit\n",
            "46   31      72            50          Fit\n",
            "47   36      83            20        Unfit\n",
            "48   23      60            60          Fit\n",
            "49   42      87            15        Unfit\n"
          ]
        }
      ]
    },
    {
      "cell_type": "code",
      "source": [
        "res=df.merge(df1,on=\"ExerciseTime\",how=\"inner\")\n",
        "print(res[['BMI','Status','FitnessLevel']])"
      ],
      "metadata": {
        "colab": {
          "base_uri": "https://localhost:8080/"
        },
        "id": "BSgqT8fXG0oP",
        "outputId": "428e87a7-0386-4c9a-f1e3-3f0c2bd78c56"
      },
      "execution_count": 53,
      "outputs": [
        {
          "output_type": "stream",
          "name": "stdout",
          "text": [
            "       BMI     Status FitnessLevel\n",
            "0    23.30  Off Track        Unfit\n",
            "1    23.30  Off Track        Unfit\n",
            "2    23.30  Off Track        Unfit\n",
            "3    22.70  Off Track          Fit\n",
            "4    22.70  Off Track          Fit\n",
            "..     ...        ...          ...\n",
            "430  22.04     Active          Fit\n",
            "431  22.04     Active          Fit\n",
            "432  22.04     Active          Fit\n",
            "433  22.04     Active          Fit\n",
            "434  22.04     Active          Fit\n",
            "\n",
            "[435 rows x 3 columns]\n"
          ]
        }
      ]
    },
    {
      "cell_type": "code",
      "source": [
        "res=df.merge(df1,on=\"ExerciseTime\",how=\"left\")\n",
        "print(res[['BMI','Status','FitnessLevel']])"
      ],
      "metadata": {
        "colab": {
          "base_uri": "https://localhost:8080/"
        },
        "id": "s-ya54lCH4fs",
        "outputId": "dae6dd46-74d3-46ea-8470-1847cf80a26f"
      },
      "execution_count": 54,
      "outputs": [
        {
          "output_type": "stream",
          "name": "stdout",
          "text": [
            "        BMI     Status FitnessLevel\n",
            "0     22.00  Off Track          NaN\n",
            "1     23.10   On Track          NaN\n",
            "2     30.50  Off Track          NaN\n",
            "3     29.00  Off Track          NaN\n",
            "4     25.30  Off Track          NaN\n",
            "...     ...        ...          ...\n",
            "1340  22.04     Active          Fit\n",
            "1341  22.04     Active          Fit\n",
            "1342  22.04     Active          Fit\n",
            "1343  22.04     Active          Fit\n",
            "1344  22.04     Active          Fit\n",
            "\n",
            "[1345 rows x 3 columns]\n"
          ]
        }
      ]
    },
    {
      "cell_type": "code",
      "source": [
        "res=df.merge(df1,on=\"ExerciseTime\",how=\"right\")\n",
        "print(res[['BMI','Status','FitnessLevel']])"
      ],
      "metadata": {
        "colab": {
          "base_uri": "https://localhost:8080/"
        },
        "id": "tOOZZ8JvH4Q-",
        "outputId": "56a25776-9b84-4ff5-dec7-c56f0f098423"
      },
      "execution_count": 55,
      "outputs": [
        {
          "output_type": "stream",
          "name": "stdout",
          "text": [
            "      BMI     Status FitnessLevel\n",
            "0    17.6  Off Track          Fit\n",
            "1    17.1  Off Track          Fit\n",
            "2    30.0  Off Track          Fit\n",
            "3    35.8  Off Track          Fit\n",
            "4    16.6  Off Track          Fit\n",
            "..    ...        ...          ...\n",
            "430  14.7  Off Track        Unfit\n",
            "431  31.6  Off Track        Unfit\n",
            "432  38.1  Off Track        Unfit\n",
            "433  21.9  Off Track        Unfit\n",
            "434  23.4  Off Track        Unfit\n",
            "\n",
            "[435 rows x 3 columns]\n"
          ]
        }
      ]
    }
  ]
}